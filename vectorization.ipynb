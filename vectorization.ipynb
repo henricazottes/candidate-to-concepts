{
 "cells": [
  {
   "cell_type": "markdown",
   "metadata": {},
   "source": [
    "## Word2Vec (Global)"
   ]
  },
  {
   "cell_type": "code",
   "execution_count": 1,
   "metadata": {},
   "outputs": [
    {
     "name": "stdout",
     "output_type": "stream",
     "text": [
      "Requirement already satisfied: numpy in c:\\users\\massa\\appdata\\local\\packages\\pythonsoftwarefoundation.python.3.8_qbz5n2kfra8p0\\localcache\\local-packages\\python38\\site-packages (1.22.3)\n",
      "Requirement already satisfied: scipy in c:\\users\\massa\\appdata\\local\\packages\\pythonsoftwarefoundation.python.3.8_qbz5n2kfra8p0\\localcache\\local-packages\\python38\\site-packages (1.8.0)\n",
      "Requirement already satisfied: numpy<1.25.0,>=1.17.3 in c:\\users\\massa\\appdata\\local\\packages\\pythonsoftwarefoundation.python.3.8_qbz5n2kfra8p0\\localcache\\local-packages\\python38\\site-packages (from scipy) (1.22.3)\n"
     ]
    },
    {
     "name": "stderr",
     "output_type": "stream",
     "text": [
      "WARNING: Skipping gensim as it is not installed.\n"
     ]
    },
    {
     "name": "stdout",
     "output_type": "stream",
     "text": [
      "Collecting gensim==3.8.1\n",
      "  Using cached gensim-3.8.1.tar.gz (23.4 MB)\n",
      "  Preparing metadata (setup.py): started\n",
      "  Preparing metadata (setup.py): finished with status 'done'\n",
      "Requirement already satisfied: numpy>=1.11.3 in c:\\users\\massa\\appdata\\local\\packages\\pythonsoftwarefoundation.python.3.8_qbz5n2kfra8p0\\localcache\\local-packages\\python38\\site-packages (from gensim==3.8.1) (1.22.3)\n",
      "Requirement already satisfied: scipy>=0.18.1 in c:\\users\\massa\\appdata\\local\\packages\\pythonsoftwarefoundation.python.3.8_qbz5n2kfra8p0\\localcache\\local-packages\\python38\\site-packages (from gensim==3.8.1) (1.8.0)\n",
      "Requirement already satisfied: six>=1.5.0 in c:\\users\\massa\\appdata\\local\\packages\\pythonsoftwarefoundation.python.3.8_qbz5n2kfra8p0\\localcache\\local-packages\\python38\\site-packages (from gensim==3.8.1) (1.16.0)\n",
      "Requirement already satisfied: smart_open>=1.8.1 in c:\\users\\massa\\appdata\\local\\packages\\pythonsoftwarefoundation.python.3.8_qbz5n2kfra8p0\\localcache\\local-packages\\python38\\site-packages (from gensim==3.8.1) (5.2.1)\n",
      "Using legacy 'setup.py install' for gensim, since package 'wheel' is not installed.\n",
      "Installing collected packages: gensim\n",
      "  Running setup.py install for gensim: started\n",
      "  Running setup.py install for gensim: finished with status 'done'\n",
      "Successfully installed gensim-3.8.1\n"
     ]
    }
   ],
   "source": [
    "import sys\n",
    "!{sys.executable} -m pip install numpy\n",
    "!{sys.executable} -m pip install scipy\n",
    "!{sys.executable} -m pip uninstall gensim\n",
    "!{sys.executable} -m pip install gensim==3.8.1"
   ]
  },
  {
   "cell_type": "code",
   "execution_count": 2,
   "metadata": {},
   "outputs": [],
   "source": [
    "# Load model\n",
    "from gensim.models import Word2Vec\n",
    "filename = \"./data/model/frwiki/frwiki.gensim\"\n",
    "model = Word2Vec.load(filename)"
   ]
  },
  {
   "cell_type": "code",
   "execution_count": 29,
   "metadata": {},
   "outputs": [
    {
     "name": "stdout",
     "output_type": "stream",
     "text": [
      "[('équité', 0.5744811296463013), ('solidarité', 0.5548803806304932)]\n"
     ]
    },
    {
     "name": "stderr",
     "output_type": "stream",
     "text": [
      "C:\\Users\\massa\\AppData\\Local\\Temp\\ipykernel_12364\\1658231314.py:1: DeprecationWarning: Call to deprecated `most_similar` (Method will be removed in 4.0.0, use self.wv.most_similar() instead).\n",
      "  result = model.most_similar(positive=['liberté', 'égalité', 'fraternité'], negative=[], topn=2)\n"
     ]
    }
   ],
   "source": [
    "#result = model.most_similar(positive=['tango', 'france'], negative=['argentine'], topn=2)\n",
    "#print(result)"
   ]
  },
  {
   "cell_type": "code",
   "execution_count": 39,
   "metadata": {},
   "outputs": [
    {
     "name": "stderr",
     "output_type": "stream",
     "text": [
      "C:\\Users\\massa\\AppData\\Local\\Temp\\ipykernel_12364\\3681802283.py:14: DeprecationWarning: Call to deprecated `__getitem__` (Method will be removed in 4.0.0, use self.wv.__getitem__() instead).\n",
      "  wordVectors.append((value/sumTfidf) * model[word])\n",
      "C:\\Users\\massa\\AppData\\Local\\Temp\\ipykernel_12364\\3681802283.py:17: DeprecationWarning: Call to deprecated `most_similar` (Method will be removed in 4.0.0, use self.wv.most_similar() instead).\n",
      "  result[candidat] = model.most_similar(positive=wordVectors, topn=5)\n"
     ]
    },
    {
     "name": "stdout",
     "output_type": "stream",
     "text": [
      "{'dupont-aignan': [('économique', 0.5779117345809937),\n",
      "                   ('développement', 0.5669440031051636),\n",
      "                   ('économie', 0.5376861095428467),\n",
      "                   ('santé', 0.5209861397743225),\n",
      "                   ('entreprises', 0.5162258148193359)],\n",
      " 'hidalgo': [('économique', 0.584995687007904),\n",
      "             ('économie', 0.5818277597427368),\n",
      "             ('sociale', 0.5536451935768127),\n",
      "             ('gouvernance', 0.5387065410614014),\n",
      "             ('salariés', 0.5364581346511841)],\n",
      " 'jadot': [('environnement', 0.5836957097053528),\n",
      "           ('organismes', 0.5668604969978333),\n",
      "           ('économique', 0.5544264316558838),\n",
      "           ('développement', 0.5507065057754517),\n",
      "           ('entreprises', 0.5424258708953857)],\n",
      " 'lassalle': [('salariés', 0.5618703365325928),\n",
      "              ('entreprises', 0.5606323480606079),\n",
      "              ('logement', 0.5315499305725098),\n",
      "              ('économique', 0.517572820186615),\n",
      "              ('travailleurs', 0.512209415435791)],\n",
      " 'lepen': [('législation', 0.6073940992355347),\n",
      "           ('loi', 0.5263701677322388),\n",
      "           ('citoyens', 0.5194002389907837),\n",
      "           ('économie', 0.518513560295105),\n",
      "           ('constitution', 0.5181514024734497)],\n",
      " 'macron': [('utilisateurs', 0.5911222696304321),\n",
      "            ('clients', 0.5824958086013794),\n",
      "            ('entreprises', 0.5617607235908508),\n",
      "            ('salariés', 0.5598574876785278),\n",
      "            ('consommateurs', 0.5571920871734619)],\n",
      " 'melenchon': [('environnement', 0.5415366888046265),\n",
      "               ('économique', 0.533428430557251),\n",
      "               ('agriculture', 0.5273165702819824),\n",
      "               ('économie', 0.5263651609420776),\n",
      "               ('logement', 0.5244848728179932)],\n",
      " 'pecresse': [('utilisateurs', 0.49970149993896484),\n",
      "              ('internautes', 0.488711416721344),\n",
      "              ('consommateurs', 0.48688754439353943),\n",
      "              ('autrui', 0.4839995503425598),\n",
      "              ('santé', 0.4782417416572571)],\n",
      " 'poutou': [('salaires', 0.5835186243057251),\n",
      "            ('salariés', 0.5672962665557861),\n",
      "            ('femmes', 0.5526136159896851),\n",
      "            ('travailleurs', 0.5430548787117004),\n",
      "            ('discriminations', 0.5383679270744324)],\n",
      " 'roussel': [('entreprises', 0.5939114689826965),\n",
      "             ('salariés', 0.5806376934051514),\n",
      "             ('économique', 0.5745453834533691),\n",
      "             ('économie', 0.5616797208786011),\n",
      "             ('emplois', 0.5577331781387329)],\n",
      " 'zemmour': [('entreprises', 0.5781925320625305),\n",
      "             ('institutions', 0.5524841547012329),\n",
      "             ('citoyens', 0.541154146194458),\n",
      "             ('sociale', 0.5370775461196899),\n",
      "             ('économique', 0.533794641494751)]}\n"
     ]
    }
   ],
   "source": [
    "# Read json source\n",
    "import json\n",
    "from os import path\n",
    "import pprint\n",
    "\n",
    "WordData = json.load(open(path.abspath('./data/generated/output/infos.json'), encoding=\"utf-8\"))\n",
    "\n",
    "result = {}\n",
    "for candidat, infos in WordData.items():\n",
    "    tfIdfs = dict(list(infos[\"tf_idfs\"].items())[0:50])\n",
    "    sumTfidf = sum(tfIdfs.values())\n",
    "    wordVectors = []\n",
    "    for word, value in tfIdfs.items():\n",
    "        wordVectors.append((value/sumTfidf) * model[word])\n",
    "\n",
    "    \n",
    "    result[candidat] = model.most_similar(positive=wordVectors, topn=10)\n",
    "\n",
    "pprint.pprint(result)\n",
    "\n"
   ]
  }
 ],
 "metadata": {
  "interpreter": {
   "hash": "ccbb2cd523f8445c02e4df7b4d61a10f4e94fd25c0e85e0febb2d13eee849992"
  },
  "kernelspec": {
   "display_name": "candidates-to-concepts",
   "language": "python",
   "name": "python3"
  },
  "language_info": {
   "codemirror_mode": {
    "name": "ipython",
    "version": 3
   },
   "file_extension": ".py",
   "mimetype": "text/x-python",
   "name": "python",
   "nbconvert_exporter": "python",
   "pygments_lexer": "ipython3",
   "version": "3.8.10"
  },
  "orig_nbformat": 4
 },
 "nbformat": 4,
 "nbformat_minor": 2
}
