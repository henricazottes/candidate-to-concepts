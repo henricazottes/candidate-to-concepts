{
 "cells": [
  {
   "cell_type": "markdown",
   "metadata": {},
   "source": [
    "## Download files"
   ]
  },
  {
   "cell_type": "code",
   "execution_count": 1,
   "metadata": {},
   "outputs": [],
   "source": [
    "# Read json source\n",
    "import json\n",
    "from os import path\n",
    "\n",
    "SourceData = json.load(open(path.abspath('./data/data.json')))"
   ]
  },
  {
   "cell_type": "code",
   "execution_count": 37,
   "metadata": {},
   "outputs": [],
   "source": [
    "import requests, os\n",
    "\n",
    "OUTPUT_PATH = path.abspath('./data/generated/input')\n",
    "\n",
    "def saveFile(type, candidat, filename, content):\n",
    "    final_dir = path.join(OUTPUT_PATH, type, candidat)\n",
    "    if not os.path.exists(final_dir):\n",
    "        os.makedirs(final_dir)\n",
    "    with open(path.join(final_dir, filename), 'wb') as f:\n",
    "        f.write(content)\n",
    "\n",
    "def downloadPdf(candidat, current_url):\n",
    "    resp = requests.get(current_url)\n",
    "    if resp.status_code != 200:\n",
    "        print(\"\\ERROR ({}) for {}\".format(resp.status_code, current_url))\n",
    "    else:\n",
    "        filename = current_url.split(\"/\")[-1]\n",
    "        saveFile('pdf', candidat, filename, resp.content)\n",
    "            \n",
    "def downloadHtml(candidat, current_url):\n",
    "    resp = requests.get(current_url)\n",
    "    if resp.status_code != 200:\n",
    "        print(\"\\ERROR ({}) for {}\".format(resp.status_code, current_url))\n",
    "    else:\n",
    "        filename = (current_url[:-1] if (current_url.endswith(\"/\")) else current_url).split(\"/\")[-1]\n",
    "        saveFile('pdf', candidat, filename+\".html\", resp.content)"
   ]
  },
  {
   "cell_type": "code",
   "execution_count": 38,
   "metadata": {},
   "outputs": [
    {
     "name": "stdout",
     "output_type": "stream",
     "text": [
      "\\ERROR (409) for https://melenchon2022.fr/wp-content/uploads/2022/02/Livret_UP_06_MIGRATION_web-1.pdf\n"
     ]
    },
    {
     "ename": "TypeError",
     "evalue": "downloadHtml() missing 1 required positional argument: 'current_url'",
     "output_type": "error",
     "traceback": [
      "\u001b[1;31m---------------------------------------------------------------------------\u001b[0m",
      "\u001b[1;31mTypeError\u001b[0m                                 Traceback (most recent call last)",
      "\u001b[1;32mc:\\Users\\massa\\projets\\Fun\\candidate-to-concepts\\downloader.ipynb Cell 4'\u001b[0m in \u001b[0;36m<cell line: 2>\u001b[1;34m()\u001b[0m\n\u001b[0;32m      <a href='vscode-notebook-cell:/c%3A/Users/massa/projets/Fun/candidate-to-concepts/downloader.ipynb#ch0000002?line=4'>5</a>\u001b[0m     downloadPdf(candidat, current_url)\n\u001b[0;32m      <a href='vscode-notebook-cell:/c%3A/Users/massa/projets/Fun/candidate-to-concepts/downloader.ipynb#ch0000002?line=5'>6</a>\u001b[0m \u001b[39melse\u001b[39;00m:\n\u001b[1;32m----> <a href='vscode-notebook-cell:/c%3A/Users/massa/projets/Fun/candidate-to-concepts/downloader.ipynb#ch0000002?line=6'>7</a>\u001b[0m     downloadHtml(current_url)\n",
      "\u001b[1;31mTypeError\u001b[0m: downloadHtml() missing 1 required positional argument: 'current_url'"
     ]
    }
   ],
   "source": [
    "# Download files\n",
    "for candidat in SourceData:\n",
    "    for current_url in SourceData[candidat]:\n",
    "        if current_url.endswith(\".pdf\"):\n",
    "            downloadPdf(candidat, current_url)\n",
    "        else:\n",
    "            downloadHtml(candidat, current_url)"
   ]
  }
 ],
 "metadata": {
  "interpreter": {
   "hash": "ccbb2cd523f8445c02e4df7b4d61a10f4e94fd25c0e85e0febb2d13eee849992"
  },
  "kernelspec": {
   "display_name": "Python 3 (ipykernel)",
   "language": "python",
   "name": "python3"
  },
  "language_info": {
   "codemirror_mode": {
    "name": "ipython",
    "version": 3
   },
   "file_extension": ".py",
   "mimetype": "text/x-python",
   "name": "python",
   "nbconvert_exporter": "python",
   "pygments_lexer": "ipython3",
   "version": "3.9.7"
  }
 },
 "nbformat": 4,
 "nbformat_minor": 2
}
