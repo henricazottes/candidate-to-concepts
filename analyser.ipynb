{
 "cells": [
  {
   "cell_type": "markdown",
   "metadata": {},
   "source": [
    "## Format data"
   ]
  },
  {
   "cell_type": "code",
   "execution_count": 196,
   "metadata": {},
   "outputs": [
    {
     "name": "stdout",
     "output_type": "stream",
     "text": [
      "['emAvecVous.txt', 'aec2020.txt', 'zemmour2022.txt']\n"
     ]
    }
   ],
   "source": [
    "from os import walk\n",
    "\n",
    "filenames = next(walk('./data/input'), (None, None, []))[2]  # [] if no file\n",
    "\n",
    "print(filenames)"
   ]
  },
  {
   "cell_type": "code",
   "execution_count": 197,
   "metadata": {},
   "outputs": [],
   "source": [
    "raw_contents = {}\n",
    "\n",
    "for filename in filenames:\n",
    "    with open(f\"./data/input/{filename}\", 'r') as file:\n",
    "        raw_contents[filename] = file.read()\n",
    "\n",
    "with open('./data/stop-words/fr.txt') as file:\n",
    "    stop_words = file.read().splitlines()\n",
    "\n",
    "# print([content[0:100] for filename, content in raw_contents.items()])\n"
   ]
  },
  {
   "cell_type": "code",
   "execution_count": 198,
   "metadata": {},
   "outputs": [],
   "source": [
    "import re\n",
    "\n",
    "file_words = {}\n",
    "\n",
    "for filename, raw_content in raw_contents.items():\n",
    "    words = re.sub(\"[!,’:%«»•())“/\\-\\.\\s\\d]+\", \"\\n\", raw_content).lower().split()\n",
    "    file_words[filename] = words\n",
    "\n",
    "# print([words[0:10] for filename, words in file_words.items()])"
   ]
  },
  {
   "cell_type": "code",
   "execution_count": 199,
   "metadata": {},
   "outputs": [],
   "source": [
    "file_filtered_words = {}\n",
    "\n",
    "for filename, words in file_words.items():\n",
    "    filtered_words = [word for word in words if word not in stop_words ]\n",
    "    file_filtered_words[filename] = filtered_words\n",
    "\n",
    "# print([filtered_words[0:10] for filename, filtered_words in file_filtered_words.items()])\n",
    "\n"
   ]
  },
  {
   "cell_type": "code",
   "execution_count": 200,
   "metadata": {},
   "outputs": [],
   "source": [
    "file_count_dicts = {}\n",
    "\n",
    "for filename, filtered_words in file_filtered_words.items():\n",
    "    count_dict = {}\n",
    "    for current_word in filtered_words:\n",
    "        if current_word not in count_dict:\n",
    "            count = len([word for word in filtered_words if word == current_word ])\n",
    "            count_dict[current_word] = count\n",
    "    \n",
    "    file_count_dicts[filename] = count_dict\n",
    "\n",
    "# print([list(count_dict.keys())[0:10] for filename, count_dict in file_count_dicts.items()])\n"
   ]
  },
  {
   "cell_type": "code",
   "execution_count": 201,
   "metadata": {},
   "outputs": [],
   "source": [
    "results = {}\n",
    "\n",
    "for filename, count_dict in file_count_dicts.items():\n",
    "    count_list = list(count_dict.items())\n",
    "    count_list.sort(key=lambda x: x[1], reverse=True)\n",
    "    result = dict(count_list)\n",
    "    results[filename] = result\n",
    "\n",
    "# print([list(result.keys())[0:10] for filename, result in results.items()])\n"
   ]
  },
  {
   "cell_type": "code",
   "execution_count": 202,
   "metadata": {},
   "outputs": [],
   "source": [
    "import json\n",
    "\n",
    "for filename, result in results.items():\n",
    "    output_filename = filename.replace('.txt', '.json')\n",
    "\n",
    "    with open(f'./data/output/{output_filename}', 'w', encoding='utf-8') as file:\n",
    "        json.dump(result, file, ensure_ascii=False, indent=2)"
   ]
  }
 ],
 "metadata": {
  "interpreter": {
   "hash": "916dbcbb3f70747c44a77c7bcd40155683ae19c65e1c03b4aa3499c5328201f1"
  },
  "kernelspec": {
   "display_name": "Python 3.8.10 64-bit",
   "language": "python",
   "name": "python3"
  },
  "language_info": {
   "codemirror_mode": {
    "name": "ipython",
    "version": 3
   },
   "file_extension": ".py",
   "mimetype": "text/x-python",
   "name": "python",
   "nbconvert_exporter": "python",
   "pygments_lexer": "ipython3",
   "version": "3.8.10"
  },
  "orig_nbformat": 4
 },
 "nbformat": 4,
 "nbformat_minor": 2
}
