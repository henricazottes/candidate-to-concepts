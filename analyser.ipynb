{
 "cells": [
  {
   "cell_type": "markdown",
   "metadata": {},
   "source": [
    "## Format data"
   ]
  },
  {
   "cell_type": "code",
   "execution_count": 1,
   "metadata": {},
   "outputs": [
    {
     "ename": "ModuleNotFoundError",
     "evalue": "No module named 'fitz'",
     "output_type": "error",
     "traceback": [
      "\u001b[1;31m---------------------------------------------------------------------------\u001b[0m",
      "\u001b[1;31mModuleNotFoundError\u001b[0m                       Traceback (most recent call last)",
      "\u001b[1;32mc:\\Users\\massa\\projets\\Fun\\candidate-to-concepts\\analyser.ipynb Cell 2'\u001b[0m in \u001b[0;36m<cell line: 2>\u001b[1;34m()\u001b[0m\n\u001b[0;32m      <a href='vscode-notebook-cell:/c%3A/Users/massa/projets/Fun/candidate-to-concepts/analyser.ipynb#ch0000001?line=0'>1</a>\u001b[0m \u001b[39mfrom\u001b[39;00m \u001b[39mos\u001b[39;00m \u001b[39mimport\u001b[39;00m walk, path\n\u001b[1;32m----> <a href='vscode-notebook-cell:/c%3A/Users/massa/projets/Fun/candidate-to-concepts/analyser.ipynb#ch0000001?line=1'>2</a>\u001b[0m \u001b[39mimport\u001b[39;00m \u001b[39mfitz\u001b[39;00m\n\u001b[0;32m      <a href='vscode-notebook-cell:/c%3A/Users/massa/projets/Fun/candidate-to-concepts/analyser.ipynb#ch0000001?line=3'>4</a>\u001b[0m INPUT_PDF_PATH \u001b[39m=\u001b[39m path\u001b[39m.\u001b[39mabspath(\u001b[39m'\u001b[39m\u001b[39m./data/generated/input/pdfs\u001b[39m\u001b[39m'\u001b[39m)\n\u001b[0;32m      <a href='vscode-notebook-cell:/c%3A/Users/massa/projets/Fun/candidate-to-concepts/analyser.ipynb#ch0000001?line=4'>5</a>\u001b[0m OUTPUT_TXT_PATH \u001b[39m=\u001b[39m path\u001b[39m.\u001b[39mabspath(\u001b[39m'\u001b[39m\u001b[39m./data/generated/output/txt\u001b[39m\u001b[39m'\u001b[39m)\n",
      "\u001b[1;31mModuleNotFoundError\u001b[0m: No module named 'fitz'"
     ]
    }
   ],
   "source": [
    "from os import walk, path\n",
    "import fitz\n",
    "\n",
    "INPUT_PDF_PATH = path.abspath('./data/generated/input/pdfs')\n",
    "OUTPUT_TXT_PATH = path.abspath('./data/generated/output/txt')\n",
    "OUTPUT_JSON_PATH = path.abspath('./data/output/json')\n",
    "\n",
    "def pdfToText(path):\n",
    "    doc = fitz.open(path)\n",
    "    pages = [ doc[ i ] for i in range( doc.pageCount ) ]\n",
    "\n",
    "    return ''.join([page.get_text('text') for page in pages])\n",
    "\n",
    "dirnames = next(walk(INPUT_PDF_PATH), (None, [], None))[1]  # [] if no file\n",
    "\n",
    "for dirname in dirnames:\n",
    "    filenames = next(walk(f'{INPUT_PDF_PATH}/{dirname}'), (None, None, []))[2]  # [] if no file\n",
    "    pdf_filenames = [filename for filename in filenames if filename.endswith('.pdf')]\n",
    "\n",
    "    output_filepath = path.join(OUTPUT_TXT_PATH, f'{dirname}.txt')\n",
    "    with open(output_filepath, 'w+') as file:\n",
    "        for filename in pdf_filenames:\n",
    "            text = pdfToText(path.join(INPUT_PDF_PATH, f'{dirname}/{filename}'))\n",
    "            file.write(text)\n",
    "\n",
    "filenames = next(walk(OUTPUT_TXT_PATH), (None, None, []))[2]  # [] if no file\n",
    "filepaths = [path.join(OUTPUT_TXT_PATH, filename) for filename in filenames]\n"
   ]
  },
  {
   "cell_type": "code",
   "execution_count": null,
   "metadata": {},
   "outputs": [],
   "source": [
    "raw_contents = {}\n",
    "\n",
    "for filepath in filepaths:\n",
    "    filename = filepath.split('/')[-1].replace('.txt', '')\n",
    "    with open(filepath, 'r') as file:\n",
    "        raw_contents[filename] = file.read()\n",
    "\n",
    "with open('./data/stop-words/fr.txt') as file:\n",
    "    stop_words = file.read().splitlines()\n",
    "\n",
    "# print([content[0:100] for filename, content in raw_contents.items()])\n"
   ]
  },
  {
   "cell_type": "code",
   "execution_count": null,
   "metadata": {},
   "outputs": [],
   "source": [
    "import re\n",
    "\n",
    "file_words = {}\n",
    "\n",
    "for filename, raw_content in raw_contents.items():\n",
    "    words = re.sub(\"[!,’:%«»•())“/\\-\\.\\s\\d]+\", \"\\n\", raw_content).lower().split()\n",
    "    file_words[filename] = words\n",
    "\n",
    "# print([words[0:10] for filename, words in file_words.items()])"
   ]
  },
  {
   "cell_type": "code",
   "execution_count": null,
   "metadata": {},
   "outputs": [],
   "source": [
    "file_filtered_words = {}\n",
    "\n",
    "for filename, words in file_words.items():\n",
    "    filtered_words = [word for word in words if word not in stop_words ]\n",
    "    file_filtered_words[filename] = filtered_words\n",
    "\n",
    "# print([filtered_words[0:10] for filename, filtered_words in file_filtered_words.items()])\n",
    "\n"
   ]
  },
  {
   "cell_type": "code",
   "execution_count": null,
   "metadata": {},
   "outputs": [],
   "source": [
    "file_count_dicts = {}\n",
    "\n",
    "for filename, filtered_words in file_filtered_words.items():\n",
    "    count_dict = {}\n",
    "    for current_word in filtered_words:\n",
    "        if current_word not in count_dict:\n",
    "            count = len([word for word in filtered_words if word == current_word ])\n",
    "            count_dict[current_word] = count\n",
    "    \n",
    "    file_count_dicts[filename] = count_dict\n",
    "\n",
    "# print([list(count_dict.keys())[0:10] for filename, count_dict in file_count_dicts.items()])\n"
   ]
  },
  {
   "cell_type": "code",
   "execution_count": null,
   "metadata": {},
   "outputs": [],
   "source": [
    "results = {}\n",
    "\n",
    "for filename, count_dict in file_count_dicts.items():\n",
    "    count_list = list(count_dict.items())\n",
    "    count_list.sort(key=lambda x: x[1], reverse=True)\n",
    "    result = dict(count_list)\n",
    "    results[filename] = result\n",
    "\n",
    "# print([list(result.keys())[0:10] for filename, result in results.items()])\n"
   ]
  },
  {
   "cell_type": "code",
   "execution_count": null,
   "metadata": {},
   "outputs": [],
   "source": [
    "import json\n",
    "\n",
    "for filename, result in results.items():\n",
    "    output_filepath = path.join(OUTPUT_JSON_PATH, f'{filename}.json')\n",
    "\n",
    "    with open(output_filepath, 'w', encoding='utf-8') as file:\n",
    "        json.dump(result, file, ensure_ascii=False, indent=2)"
   ]
  }
 ],
 "metadata": {
  "interpreter": {
   "hash": "ccbb2cd523f8445c02e4df7b4d61a10f4e94fd25c0e85e0febb2d13eee849992"
  },
  "kernelspec": {
   "display_name": "candidates-to-concepts",
   "language": "python",
   "name": "python3"
  },
  "language_info": {
   "codemirror_mode": {
    "name": "ipython",
    "version": 3
   },
   "file_extension": ".py",
   "mimetype": "text/x-python",
   "name": "python",
   "nbconvert_exporter": "python",
   "pygments_lexer": "ipython3",
   "version": "3.8.10"
  },
  "orig_nbformat": 4
 },
 "nbformat": 4,
 "nbformat_minor": 2
}
